{
 "cells": [
  {
   "cell_type": "markdown",
   "metadata": {},
   "source": [
    "\n"
   ]
  },
  {
   "cell_type": "markdown",
   "metadata": {
    "collapsed": true
   },
   "source": [
    "###### Esteven velazquez, Esteban Martinez, Andres Heredia "
   ]
  },
  {
   "cell_type": "markdown",
   "metadata": {},
   "source": [
    "# Introduction "
   ]
  },
  {
   "cell_type": "markdown",
   "metadata": {},
   "source": [
    "Each objects has a maximum static friction force which prevents it from being moved until enough force is applied. In this experiement we will be testing to see if the amount of force needed is related to the mass of the object. "
   ]
  },
  {
   "cell_type": "markdown",
   "metadata": {},
   "source": [
    "### Prodecure\n"
   ]
  },
  {
   "cell_type": "markdown",
   "metadata": {},
   "source": [
    "We will be testing various weights and pulling them with springs scales. We will be doing this to see how much force it needs before the spring will cause the objects to move. We alalayze the date we collected to see if there is a correlation between the objects mass and the amount of force needed for its maximum static friction. "
   ]
  },
  {
   "cell_type": "markdown",
   "metadata": {},
   "source": [
    "\n",
    "| Mass \t| Force (N)\t|\n",
    "|-----\t|---\t|\n",
    "| 100  \t|  0.35|\n",
    "| 200 \t|   0.70 |\n",
    "| 300 \t|   1.0\t|\n",
    "| 400 \t|   1.35\t|\n",
    "| 500 \t|   1.70|\n"
   ]
  },
  {
   "cell_type": "code",
   "execution_count": 8,
   "metadata": {
    "collapsed": false
   },
   "outputs": [
    {
     "name": "stdout",
     "output_type": "stream",
     "text": [
      "0.00334999999783 0.0149999999979\n"
     ]
    },
    {
     "data": {
      "text/plain": [
       "<matplotlib.text.Text at 0x75dd518>"
      ]
     },
     "execution_count": 8,
     "metadata": {},
     "output_type": "execute_result"
    },
    {
     "data": {
      "image/png": "[encoded data removed]",
      "text/plain": [
       "<matplotlib.figure.Figure at 0x7bd6dd8>"
      ]
     },
     "metadata": {},
     "output_type": "display_data"
    }
   ],
   "source": [
    "%matplotlib inline\n",
    "\n",
    "import matplotlib.pyplot as plt\n",
    "import numpy as np\n",
    "from scipy.optimize import curve_fit\n",
    "\n",
    "%matplotlib inline\n",
    "import matplotlib.pyplot as plt\n",
    "plt.plot([100,200,300,400,500], [0.35,0.70,1.0,1.35,1.70], 'r.')\n",
    "plt.ylabel('Force applied (N) ')\n",
    "plt.xlabel('Mass')\n",
    "plt.title('Maximum Static Friction')\n",
    "plt.axis([0, 500, 0, 2])\n",
    "\n",
    "Force= [100,200,300,400,500]\n",
    "Mass= [0.35,0.70,1.0,1.35,1.70]\n",
    "xx = np.linspace(0.,600.,3)\n",
    "\n",
    "\n",
    "def lin_model (x, a, b):\n",
    "    return a*x + b\n",
    "a,b = curve_fit(lin_model, Force, Mass)[0]\n",
    "print(a, b)\n",
    "\n",
    "plt.plot(Force, Mass, '.')\n",
    "plt.plot(xx, lin_model(xx, a, b,), 'r') \n",
    "plt.ylabel('Force applied (N)')\n",
    "plt.xlabel('Weight (g)')\n",
    "plt.title('Maximum static friction')\n"
   ]
  },
  {
   "cell_type": "markdown",
   "metadata": {},
   "source": [
    "$$  0.00334x + 0.01499 $$"
   ]
  },
  {
   "cell_type": "markdown",
   "metadata": {
    "collapsed": true
   },
   "source": [
    "| Mass \t| Force (N)\t|\n",
    "|-----\t|---\t|\n",
    "| 100  \t|  0.75|\n",
    "| 200 \t|   0.95 |\n",
    "| 300 \t|   1.3\t|\n",
    "| 400 \t|   1.9\t|\n",
    "| 500 \t|   2.2|\n"
   ]
  },
  {
   "cell_type": "code",
   "execution_count": 9,
   "metadata": {
    "collapsed": false
   },
   "outputs": [
    {
     "name": "stdout",
     "output_type": "stream",
     "text": [
      "0.00385000000478 0.264999998453\n"
     ]
    },
    {
     "data": {
      "text/plain": [
       "<matplotlib.text.Text at 0x7cc9208>"
      ]
     },
     "execution_count": 9,
     "metadata": {},
     "output_type": "execute_result"
    },
    {
     "data": {
      "image/png": "[encoded data removed]",
      "text/plain": [
       "<matplotlib.figure.Figure at 0x6e97898>"
      ]
     },
     "metadata": {},
     "output_type": "display_data"
    }
   ],
   "source": [
    "%matplotlib inline\n",
    "import matplotlib.pyplot as plt\n",
    "plt.plot([100,200,300,400,500], [0.75,0.95,1.3,1.9,2.2], 'r.')\n",
    "plt.ylabel('Force applied (N) ')\n",
    "plt.xlabel('Mass')\n",
    "plt.title('Maximum Static Friction')\n",
    "plt.axis([0, 500, 0, 2])\n",
    "\n",
    "Force= [100,200,300,400,500]\n",
    "Mass= [0.75,0.95,1.3,1.9,2.2]\n",
    "xx = np.linspace(0.,500.,3)\n",
    "\n",
    "\n",
    "def lin_model (x, a, b):\n",
    "    return a*x + b\n",
    "a,b = curve_fit(lin_model, Force, Mass)[0]\n",
    "print(a, b)\n",
    "\n",
    "plt.plot(Force, Mass, '.')\n",
    "plt.plot(xx, lin_model(xx, a, b,), 'r') \n",
    "plt.ylabel('Force applied (N)')\n",
    "plt.xlabel('Weight (g)')\n",
    "plt.title('Maximum Static Friction')\n"
   ]
  },
  {
   "cell_type": "markdown",
   "metadata": {},
   "source": [
    "$$0.00385x + 0.26499 $$"
   ]
  },
  {
   "cell_type": "markdown",
   "metadata": {},
   "source": [
    "### Analysis\n",
    "For each graph we have a posive $b$ value, which does not properly account for a real word scenerio since no force can't move mass. This positive $b$ value can account for the weight of the box and the force it takes to move it. \n",
    "\n",
    "When on an enclined surface, moving the same amount of mass requires more force to reach its maximum static friction compared to moving it on a flat surface. So we can conclude that the maximum statis friction is related to it'\n"
   ]
  },
  {
   "cell_type": "code",
   "execution_count": null,
   "metadata": {
    "collapsed": true
   },
   "outputs": [],
   "source": []
  }
 ],
 "metadata": {
  "kernelspec": {
   "display_name": "Python 3",
   "language": "python",
   "name": "python3"
  },
  "language_info": {
   "codemirror_mode": {
    "name": "ipython",
    "version": 3
   },
   "file_extension": ".py",
   "mimetype": "text/x-python",
   "name": "python",
   "nbconvert_exporter": "python",
   "pygments_lexer": "ipython3",
   "version": "3.4.4"
  }
 },
 "nbformat": 4,
 "nbformat_minor": 0
}
