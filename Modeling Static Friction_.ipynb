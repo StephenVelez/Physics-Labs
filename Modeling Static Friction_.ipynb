{
 "cells": [
  {
   "cell_type": "markdown",
   "metadata": {},
   "source": [
    "\n"
   ]
  },
  {
   "cell_type": "markdown",
   "metadata": {},
   "source": [
    "# Background "
   ]
  },
  {
   "cell_type": "code",
   "execution_count": null,
   "metadata": {
    "collapsed": true
   },
   "outputs": [],
   "source": [
    "%matplotlib inline"
   ]
  },
  {
   "cell_type": "markdown",
   "metadata": {},
   "source": [
    "Each objects has a maximum static friction force which prevents it from being moved until enough force is applied. In this experiement we will be testing to see if the amount of force needed is related to the mass of the object. "
   ]
  },
  {
   "cell_type": "markdown",
   "metadata": {},
   "source": [
    "### Prodecure\n"
   ]
  },
  {
   "cell_type": "markdown",
   "metadata": {},
   "source": [
    "We will be testing various weights and pulling them with springs scales. We will be doing this to see how much force it needs before the spring will cause the objects to move. We alalayze the date we collected to see if there is a correlation between the objects mass and the amount of force needed for its maximum static friction. "
   ]
  },
  {
   "cell_type": "markdown",
   "metadata": {},
   "source": [
    "\n",
    "| Mass \t| Force (N)\t|\n",
    "|-----\t|---\t|\n",
    "| 0 \t|   .5\t|\n",
    "| 100  \t|  .65\t|\n",
    "| 200 \t|   .975\t|\n",
    "| 300 \t|   1.35\t|\n",
    "| 400 \t|   1.85\t|\n",
    "| 500 \t|   2.25\t|\n"
   ]
  },
  {
   "cell_type": "code",
   "execution_count": 18,
   "metadata": {
    "collapsed": false
   },
   "outputs": [
    {
     "data": {
      "image/png": "[encoded data removed]",
      "text/plain": [
       "<matplotlib.figure.Figure at 0x75d5588>"
      ]
     },
     "metadata": {},
     "output_type": "display_data"
    }
   ],
   "source": [
    "%matplotlib inline\n",
    "import matplotlib.pyplot as plt\n",
    "plt.plot([0,100,200,300,400,500], [0.5,0.65,0.975,1.35,1.85,2.25], 'r.')\n",
    "plt.ylabel('Force applied (N) ')\n",
    "plt.xlabel('Mass')\n",
    "plt.title('Maximum Static Friction')\n",
    "plt.axis([0, 500, 0, 2])\n",
    "plt.show()"
   ]
  },
  {
   "cell_type": "code",
   "execution_count": null,
   "metadata": {
    "collapsed": true
   },
   "outputs": [],
   "source": []
  },
  {
   "cell_type": "code",
   "execution_count": null,
   "metadata": {
    "collapsed": true
   },
   "outputs": [],
   "source": []
  }
 ],
 "metadata": {
  "kernelspec": {
   "display_name": "Python 3",
   "language": "python",
   "name": "python3"
  },
  "language_info": {
   "codemirror_mode": {
    "name": "ipython",
    "version": 3
   },
   "file_extension": ".py",
   "mimetype": "text/x-python",
   "name": "python",
   "nbconvert_exporter": "python",
   "pygments_lexer": "ipython3",
   "version": "3.4.4"
  }
 },
 "nbformat": 4,
 "nbformat_minor": 0
}
